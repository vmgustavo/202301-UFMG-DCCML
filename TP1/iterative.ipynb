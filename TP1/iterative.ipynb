{
 "cells": [
  {
   "attachments": {},
   "cell_type": "markdown",
   "metadata": {},
   "source": [
    "# Redes Neuronais + Backpropagation"
   ]
  },
  {
   "cell_type": "code",
   "execution_count": 26,
   "metadata": {},
   "outputs": [],
   "source": [
    "from time import time\n",
    "from collections import Counter\n",
    "\n",
    "import pandas as pd\n",
    "import matplotlib.pyplot as plt\n",
    "from sklearn.neural_network import MLPClassifier\n",
    "from sklearn.metrics import classification_report, accuracy_score"
   ]
  },
  {
   "attachments": {},
   "cell_type": "markdown",
   "metadata": {},
   "source": [
    "### Leitura de dados"
   ]
  },
  {
   "cell_type": "code",
   "execution_count": 7,
   "metadata": {},
   "outputs": [],
   "source": [
    "data = pd.read_csv('./data_tp1', header=None)"
   ]
  },
  {
   "cell_type": "code",
   "execution_count": 8,
   "metadata": {},
   "outputs": [],
   "source": [
    "features = data.loc[:, 1:]\n",
    "target = data.loc[:, 0]"
   ]
  },
  {
   "cell_type": "code",
   "execution_count": 9,
   "metadata": {},
   "outputs": [
    {
     "data": {
      "text/plain": [
       "((5000, 784), (5000,))"
      ]
     },
     "execution_count": 9,
     "metadata": {},
     "output_type": "execute_result"
    }
   ],
   "source": [
    "features.shape, target.shape"
   ]
  },
  {
   "cell_type": "code",
   "execution_count": 15,
   "metadata": {},
   "outputs": [
    {
     "data": {
      "text/plain": [
       "Counter({1: 571,\n",
       "         2: 530,\n",
       "         9: 520,\n",
       "         7: 512,\n",
       "         4: 500,\n",
       "         3: 500,\n",
       "         8: 489,\n",
       "         6: 462,\n",
       "         0: 460,\n",
       "         5: 456})"
      ]
     },
     "execution_count": 15,
     "metadata": {},
     "output_type": "execute_result"
    }
   ],
   "source": [
    "Counter(target)"
   ]
  },
  {
   "attachments": {},
   "cell_type": "markdown",
   "metadata": {},
   "source": [
    "O dado apresenta 10 classes com dígitos de 0 a 9 com observações de escrita manual aproximadamente bem distribuídas entre os dígitos. Cada dígito é representado por uma imagem de 28x28 pixels que quando transformada em um vetor contém 784 dimensões.\n",
    "\n",
    "Portanto:\n",
    "- O número de neurônios na camada de entrada deve igual a 784 para considerar todas as características disponíveis para o modelo\n",
    "- O número de neurônios na camada de saída deve igual a 10 para predizer cada dígito separadamente"
   ]
  },
  {
   "attachments": {},
   "cell_type": "markdown",
   "metadata": {},
   "source": [
    "### Opções de hiperparâmetros [[docs](https://scikit-learn.org/stable/modules/generated/sklearn.neural_network.MLPClassifier.html)]"
   ]
  },
  {
   "attachments": {},
   "cell_type": "markdown",
   "metadata": {},
   "source": [
    "Inicialmente os seguintes parâmetros serão avaliados para o treinamento do modelo:\n",
    "- Número de neurônios na camada escondida - variando entre `hidden_layer_sizes = 25; 50; 100`\n",
    "- Função de loss do modelo\n",
    "    - **Gradient Descent**: método que considera todas as iterações para atualizar o erro do modelo - `batch_size = 5000`\n",
    "    - **Mini Batch**: método que considera um número de iterações menor que o número total de observações disponíveis para atualizar o erro do modelo - variando entre `batch_size = 10; 50`\n",
    "    - **Stochastic Gradient Descent**: método que considera somente uma iteração para atualizar o erro do modelo - `batch_size = 1`\n",
    "- Taxa de aprendizado - variando entre `learning_rate_inits = 0.5; 1; 10`\n",
    "\n",
    "\n",
    "Além dos parâmetros que serão variados para avaliação de performance do modelo, os seguintes parâmetros devem permanecer fixos:\n",
    "\n",
    "```python\n",
    "activation = 'tanh' # Sigmoid\n",
    "neuron_input = 784\n",
    "neuron_output = 10\n",
    "solver = 'sgd'\n",
    "```"
   ]
  },
  {
   "attachments": {},
   "cell_type": "markdown",
   "metadata": {},
   "source": [
    "### Definição do modelo"
   ]
  },
  {
   "attachments": {},
   "cell_type": "markdown",
   "metadata": {},
   "source": [
    "Considerando inicialmente:\n",
    "\n",
    "```python\n",
    "hidden_layer_sizes = 100\n",
    "batch_size = 1\n",
    "learning_rate_inits = 0.5\n",
    "```\n",
    "\n",
    "A expectativa é que o modelo apresente:\n",
    "- Lenta progressão de aprendizado - baixo valor de taxa de aprendizado\n",
    "- Lenta execução - *batch size* muito baixo o número de atualizações do peso é muito grande\n",
    "- Alta capacidade - 100 neurônios na camada escondida"
   ]
  },
  {
   "cell_type": "code",
   "execution_count": 58,
   "metadata": {},
   "outputs": [
    {
     "name": "stdout",
     "output_type": "stream",
     "text": [
      "94.39199209213257\n"
     ]
    }
   ],
   "source": [
    "model_00 = MLPClassifier(\n",
    "    activation = 'tanh',\n",
    "    hidden_layer_sizes=100,\n",
    "    solver = 'sgd',\n",
    "    batch_size=1,\n",
    "    learning_rate='constant',\n",
    "    learning_rate_init=0.5,\n",
    ")\n",
    "\n",
    "st = time()\n",
    "model_00.fit(features, target)\n",
    "time_to_fit = time() - st\n",
    "\n",
    "print(time_to_fit)"
   ]
  },
  {
   "cell_type": "code",
   "execution_count": 63,
   "metadata": {},
   "outputs": [],
   "source": [
    "def print_metrics(model_):\n",
    "    print({\n",
    "        'accuracy': accuracy_score(\n",
    "            y_pred=model_.predict(features),\n",
    "            y_true=target,\n",
    "        ),\n",
    "        'best_loss': model_.best_loss_,\n",
    "    })"
   ]
  },
  {
   "cell_type": "code",
   "execution_count": 64,
   "metadata": {},
   "outputs": [
    {
     "name": "stdout",
     "output_type": "stream",
     "text": [
      "{'accuracy': 0.104, 'best_loss': 16262.146173811936}\n"
     ]
    }
   ],
   "source": [
    "print_metrics(model_00)"
   ]
  },
  {
   "cell_type": "code",
   "execution_count": 67,
   "metadata": {},
   "outputs": [],
   "source": [
    "def plot_loss(model_):\n",
    "    plt.figure(figsize=(8, 3))\n",
    "    plt.plot(model_.loss_curve_)\n",
    "    plt.ylabel('loss')\n",
    "    plt.xlabel('epoch')\n",
    "    plt.show()\n",
    "    plt.close()"
   ]
  },
  {
   "cell_type": "code",
   "execution_count": 66,
   "metadata": {},
   "outputs": [
    {
     "data": {
      "image/png": "[encoded data removed]",
      "text/plain": [
       "<Figure size 800x300 with 1 Axes>"
      ]
     },
     "metadata": {},
     "output_type": "display_data"
    }
   ],
   "source": [
    "plot_loss(model_00)"
   ]
  },
  {
   "attachments": {},
   "cell_type": "markdown",
   "metadata": {},
   "source": [
    "Com a alteração do número de íterações máximo a acurácia no dado de treino e o melhor valor na função de *loss* não se alteram significativamente, apesar de aumentar o número de iterações até a saturação (momento em que não existe mais variação relevante no valor da função de perda). Nota-se que o modelo já alcança resultados muito bons no início da curva de valores da função de perda, portanto, o número elevado de iterações pode levar a sobre ajuste indesejado. O fato de o modelo ter quantidade elevada de neurônios na camada escondida facilita o aprendizado, mas também pode levar a sobre ajuste desnecessário."
   ]
  },
  {
   "attachments": {},
   "cell_type": "markdown",
   "metadata": {},
   "source": [
    "### Análise de número de neurônios na camada escondida"
   ]
  },
  {
   "attachments": {},
   "cell_type": "markdown",
   "metadata": {},
   "source": [
    "Como estratégia para avaliar a performance de um modelo com menor capacidade no mesmo dado será alterado o parâmetro:\n",
    "\n",
    "```python\n",
    "hidden_layer_sizes=50\n",
    "```"
   ]
  },
  {
   "cell_type": "code",
   "execution_count": 51,
   "metadata": {},
   "outputs": [
    {
     "name": "stdout",
     "output_type": "stream",
     "text": [
      "42.90770673751831\n"
     ]
    }
   ],
   "source": [
    "model_02 = MLPClassifier(\n",
    "    activation = 'tanh',\n",
    "    hidden_layer_sizes=50,\n",
    "    solver = 'sgd',\n",
    "    max_iter=1024,\n",
    ")\n",
    "\n",
    "st = time()\n",
    "model_01.fit(features, target)\n",
    "time_to_fit = time() - st\n",
    "\n",
    "print(time_to_fit)"
   ]
  },
  {
   "cell_type": "code",
   "execution_count": 52,
   "metadata": {},
   "outputs": [
    {
     "name": "stdout",
     "output_type": "stream",
     "text": [
      "{'accuracy': 0.9842, 'best_loss': 0.06700983266666431}\n"
     ]
    }
   ],
   "source": [
    "print_metrics(model_01)"
   ]
  },
  {
   "cell_type": "code",
   "execution_count": 53,
   "metadata": {},
   "outputs": [
    {
     "data": {
      "image/png": "[encoded data removed]",
      "text/plain": [
       "<Figure size 800x300 with 1 Axes>"
      ]
     },
     "metadata": {},
     "output_type": "display_data"
    }
   ],
   "source": [
    "plot_loss(model_01)"
   ]
  },
  {
   "attachments": {},
   "cell_type": "markdown",
   "metadata": {},
   "source": [
    "O modelo com metade do número de neurônios na camada escondida apresenta performance similar e, portanto, não existe justificativa para manter o número de neurônios na camada escondida igual a 100"
   ]
  },
  {
   "attachments": {},
   "cell_type": "markdown",
   "metadata": {},
   "source": [
    "Como estratégia para avaliar a performance de um modelo com menor capacidade no mesmo dado será alterado o parâmetro:\n",
    "\n",
    "```python\n",
    "hidden_layer_sizes=25\n",
    "```"
   ]
  },
  {
   "cell_type": "code",
   "execution_count": 54,
   "metadata": {},
   "outputs": [
    {
     "name": "stdout",
     "output_type": "stream",
     "text": [
      "35.69162607192993\n"
     ]
    }
   ],
   "source": [
    "model_02 = MLPClassifier(\n",
    "    activation = 'tanh',\n",
    "    hidden_layer_sizes=50,\n",
    "    solver = 'sgd',\n",
    "    max_iter=1024,\n",
    ")\n",
    "\n",
    "st = time()\n",
    "model_01.fit(features, target)\n",
    "time_to_fit = time() - st\n",
    "\n",
    "print(time_to_fit)"
   ]
  },
  {
   "cell_type": "code",
   "execution_count": 55,
   "metadata": {},
   "outputs": [
    {
     "name": "stdout",
     "output_type": "stream",
     "text": [
      "{'accuracy': 0.9806, 'best_loss': 0.07848956138240953}\n"
     ]
    }
   ],
   "source": [
    "print_metrics(model_01)"
   ]
  },
  {
   "cell_type": "code",
   "execution_count": 56,
   "metadata": {},
   "outputs": [
    {
     "data": {
      "image/png": "[encoded data removed]",
      "text/plain": [
       "<Figure size 800x300 with 1 Axes>"
      ]
     },
     "metadata": {},
     "output_type": "display_data"
    }
   ],
   "source": [
    "plot_loss(model_01)"
   ]
  },
  {
   "attachments": {},
   "cell_type": "markdown",
   "metadata": {},
   "source": [
    "O modelo com metade do número de neurônios na camada escondida apresenta performance similar e, portanto, não existe justificativa para manter o número de neurônios na camada escondida igual a 50. Portanto, pode-se manter rígida a definição de um modelo com o número de neurônios na camada escondida igual a 25."
   ]
  },
  {
   "attachments": {},
   "cell_type": "markdown",
   "metadata": {},
   "source": [
    "### Avaliação de *batch size*"
   ]
  },
  {
   "attachments": {},
   "cell_type": "markdown",
   "metadata": {},
   "source": [
    "Como estratégia para acelerar o treinamento do modelo reduzindo tanto o tempo para treinamento quando o número de iterações necessárias para a saturação será alterado o parâmetro:\n",
    "\n",
    "```python\n",
    "batch_size=10\n",
    "```"
   ]
  },
  {
   "cell_type": "code",
   "execution_count": 57,
   "metadata": {},
   "outputs": [
    {
     "name": "stdout",
     "output_type": "stream",
     "text": [
      "7.067926406860352\n"
     ]
    },
    {
     "name": "stderr",
     "output_type": "stream",
     "text": [
      "/home/maia/UFMG/202301-UFMG-DCCML/TP1/.venv/lib/python3.10/site-packages/sklearn/neural_network/_multilayer_perceptron.py:693: UserWarning: Training interrupted by user.\n",
      "  warnings.warn(\"Training interrupted by user.\")\n"
     ]
    }
   ],
   "source": [
    "model_02 = MLPClassifier(\n",
    "    activation = 'tanh',\n",
    "    hidden_layer_sizes=50,\n",
    "    solver = 'sgd',\n",
    "    max_iter=1024,\n",
    "    batch_size=10,\n",
    ")\n",
    "\n",
    "st = time()\n",
    "model_01.fit(features, target)\n",
    "time_to_fit = time() - st\n",
    "\n",
    "print(time_to_fit)"
   ]
  },
  {
   "cell_type": "code",
   "execution_count": null,
   "metadata": {},
   "outputs": [
    {
     "name": "stdout",
     "output_type": "stream",
     "text": [
      "{'accuracy': 0.9842, 'best_loss': 0.06700983266666431}\n"
     ]
    }
   ],
   "source": [
    "print_metrics(model_01)"
   ]
  },
  {
   "cell_type": "code",
   "execution_count": null,
   "metadata": {},
   "outputs": [
    {
     "data": {
      "image/png": "[encoded data removed]",
      "text/plain": [
       "<Figure size 800x300 with 1 Axes>"
      ]
     },
     "metadata": {},
     "output_type": "display_data"
    }
   ],
   "source": [
    "plot_loss(model_01)"
   ]
  },
  {
   "attachments": {},
   "cell_type": "markdown",
   "metadata": {},
   "source": [
    "---"
   ]
  }
 ],
 "metadata": {
  "kernelspec": {
   "display_name": ".venv",
   "language": "python",
   "name": "python3"
  },
  "language_info": {
   "codemirror_mode": {
    "name": "ipython",
    "version": 3
   },
   "file_extension": ".py",
   "mimetype": "text/x-python",
   "name": "python",
   "nbconvert_exporter": "python",
   "pygments_lexer": "ipython3",
   "version": "3.10.6"
  },
  "orig_nbformat": 4
 },
 "nbformat": 4,
 "nbformat_minor": 2
}
