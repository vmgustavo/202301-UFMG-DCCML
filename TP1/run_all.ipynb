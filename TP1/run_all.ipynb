{
 "cells": [
  {
   "attachments": {},
   "cell_type": "markdown",
   "metadata": {},
   "source": [
    "# Redes Neuronais + Backpropagation"
   ]
  },
  {
   "cell_type": "code",
   "execution_count": 1,
   "metadata": {},
   "outputs": [],
   "source": [
    "from pathlib import Path\n",
    "from itertools import product\n",
    "from collections import Counter\n",
    "\n",
    "import pandas as pd\n",
    "from tqdm import tqdm\n",
    "import matplotlib.pyplot as plt\n",
    "from sklearn.neural_network import MLPClassifier\n",
    "from sklearn.metrics import classification_report"
   ]
  },
  {
   "attachments": {},
   "cell_type": "markdown",
   "metadata": {},
   "source": [
    "### Read Data"
   ]
  },
  {
   "cell_type": "code",
   "execution_count": 2,
   "metadata": {},
   "outputs": [],
   "source": [
    "data = pd.read_csv('./data_tp1', header=None)"
   ]
  },
  {
   "cell_type": "code",
   "execution_count": 3,
   "metadata": {},
   "outputs": [],
   "source": [
    "features = data.loc[:, 1:]\n",
    "target = data.loc[:, 0]"
   ]
  },
  {
   "cell_type": "code",
   "execution_count": 4,
   "metadata": {},
   "outputs": [
    {
     "data": {
      "text/plain": [
       "((5000, 784), (5000,))"
      ]
     },
     "execution_count": 4,
     "metadata": {},
     "output_type": "execute_result"
    }
   ],
   "source": [
    "features.shape, target.shape"
   ]
  },
  {
   "cell_type": "code",
   "execution_count": 5,
   "metadata": {},
   "outputs": [
    {
     "data": {
      "text/plain": [
       "Counter({1: 571,\n",
       "         2: 530,\n",
       "         9: 520,\n",
       "         7: 512,\n",
       "         4: 500,\n",
       "         3: 500,\n",
       "         8: 489,\n",
       "         6: 462,\n",
       "         0: 460,\n",
       "         5: 456})"
      ]
     },
     "execution_count": 5,
     "metadata": {},
     "output_type": "execute_result"
    }
   ],
   "source": [
    "Counter(target)"
   ]
  },
  {
   "attachments": {},
   "cell_type": "markdown",
   "metadata": {},
   "source": [
    "### Model Hiperparameters Options [[docs](https://scikit-learn.org/stable/modules/generated/sklearn.neural_network.MLPClassifier.html)]"
   ]
  },
  {
   "cell_type": "code",
   "execution_count": 6,
   "metadata": {},
   "outputs": [],
   "source": [
    "activation = 'tanh' # Sigmoid\n",
    "\n",
    "neuron_input = 784\n",
    "neuron_output = 10\n",
    "\n",
    "neurons_hidden = [25, 50, 100]\n",
    "solver = 'sgd'\n",
    "batch_sizes = [\n",
    "    10, 50,         # Mini Batch\n",
    "    1,              # Stochastic Gradient Descent\n",
    "    target.shape[0] # Gradient Descent\n",
    "]\n",
    "\n",
    "learning_rate_inits = [0.5, 1, 10]"
   ]
  },
  {
   "cell_type": "code",
   "execution_count": 7,
   "metadata": {},
   "outputs": [],
   "source": [
    "params = list()\n",
    "for batch_size, learning_rate_init, neuron_hidden in product(batch_sizes, learning_rate_inits, neurons_hidden):\n",
    "    params.append({\n",
    "        'activation': activation,\n",
    "        'hidden_layer_sizes': neuron_hidden,\n",
    "        'solver': solver,\n",
    "        'batch_size': batch_size,\n",
    "        'learning_rate': 'constant',\n",
    "        'learning_rate_init': learning_rate_init,\n",
    "        'early_stopping': False,\n",
    "        'nesterovs_momentum': True,\n",
    "        'momentum': .9,\n",
    "        'verbose': False,\n",
    "        'alpha': .0001,\n",
    "        'max_iter': 256,  # number of epochs\n",
    "        'shuffle': True,\n",
    "        'random_state': None,\n",
    "        'n_iter_no_change': 10,\n",
    "        'tol': 1e-4,\n",
    "    })"
   ]
  },
  {
   "cell_type": "code",
   "execution_count": 8,
   "metadata": {},
   "outputs": [],
   "source": [
    "relevant_params = ['batch_size', 'learning_rate_init', 'hidden_layer_sizes']"
   ]
  },
  {
   "cell_type": "code",
   "execution_count": 9,
   "metadata": {},
   "outputs": [
    {
     "data": {
      "text/plain": [
       "36"
      ]
     },
     "execution_count": 9,
     "metadata": {},
     "output_type": "execute_result"
    }
   ],
   "source": [
    "len(params)"
   ]
  },
  {
   "attachments": {},
   "cell_type": "markdown",
   "metadata": {},
   "source": [
    "### Model Instance"
   ]
  },
  {
   "cell_type": "code",
   "execution_count": null,
   "metadata": {},
   "outputs": [],
   "source": [
    "reports = list()\n",
    "for curr_params in tqdm(params):\n",
    "    report = dict()\n",
    "    report['params'] = curr_params\n",
    "\n",
    "    model = MLPClassifier(**curr_params)\n",
    "    model.fit(features, target)\n",
    "\n",
    "    metrics = classification_report(\n",
    "        y_pred=model.predict(features),\n",
    "        y_true=target,\n",
    "        output_dict=True,\n",
    "        zero_division=0,\n",
    "    )\n",
    "\n",
    "    report['metrics'] = metrics\n",
    "    report['curves'] = {\n",
    "        'loss_curve': model.loss_curve_,\n",
    "        'best_loss': model.best_loss_,\n",
    "        'n_iter': model.n_iter_\n",
    "    }\n",
    "\n",
    "    reports.append(report)"
   ]
  },
  {
   "attachments": {},
   "cell_type": "markdown",
   "metadata": {},
   "source": [
    "### Evaluate Results"
   ]
  },
  {
   "cell_type": "code",
   "execution_count": 10,
   "metadata": {},
   "outputs": [],
   "source": [
    "fpath = 'results.csv'\n",
    "if Path(fpath).exists():\n",
    "    results = pd.read_csv(fpath)\n",
    "else:\n",
    "    results = pd.json_normalize(reports)\n",
    "    results.to_csv(fpath, index=False)"
   ]
  },
  {
   "cell_type": "code",
   "execution_count": 11,
   "metadata": {},
   "outputs": [
    {
     "data": {
      "text/html": [
       "<div>\n",
       "<style scoped>\n",
       "    .dataframe tbody tr th:only-of-type {\n",
       "        vertical-align: middle;\n",
       "    }\n",
       "\n",
       "    .dataframe tbody tr th {\n",
       "        vertical-align: top;\n",
       "    }\n",
       "\n",
       "    .dataframe thead th {\n",
       "        text-align: right;\n",
       "    }\n",
       "</style>\n",
       "<table border=\"1\" class=\"dataframe\">\n",
       "  <thead>\n",
       "    <tr style=\"text-align: right;\">\n",
       "      <th></th>\n",
       "      <th>metrics.accuracy</th>\n",
       "      <th>params.batch_size</th>\n",
       "      <th>params.learning_rate_init</th>\n",
       "      <th>params.hidden_layer_sizes</th>\n",
       "    </tr>\n",
       "  </thead>\n",
       "  <tbody>\n",
       "    <tr>\n",
       "      <th>27</th>\n",
       "      <td>0.6810</td>\n",
       "      <td>5000</td>\n",
       "      <td>0.5</td>\n",
       "      <td>25</td>\n",
       "    </tr>\n",
       "    <tr>\n",
       "      <th>28</th>\n",
       "      <td>0.6384</td>\n",
       "      <td>5000</td>\n",
       "      <td>0.5</td>\n",
       "      <td>50</td>\n",
       "    </tr>\n",
       "    <tr>\n",
       "      <th>30</th>\n",
       "      <td>0.5650</td>\n",
       "      <td>5000</td>\n",
       "      <td>1.0</td>\n",
       "      <td>25</td>\n",
       "    </tr>\n",
       "    <tr>\n",
       "      <th>29</th>\n",
       "      <td>0.2846</td>\n",
       "      <td>5000</td>\n",
       "      <td>0.5</td>\n",
       "      <td>100</td>\n",
       "    </tr>\n",
       "    <tr>\n",
       "      <th>11</th>\n",
       "      <td>0.2118</td>\n",
       "      <td>50</td>\n",
       "      <td>0.5</td>\n",
       "      <td>100</td>\n",
       "    </tr>\n",
       "    <tr>\n",
       "      <th>35</th>\n",
       "      <td>0.2062</td>\n",
       "      <td>5000</td>\n",
       "      <td>10.0</td>\n",
       "      <td>100</td>\n",
       "    </tr>\n",
       "    <tr>\n",
       "      <th>31</th>\n",
       "      <td>0.1886</td>\n",
       "      <td>5000</td>\n",
       "      <td>1.0</td>\n",
       "      <td>50</td>\n",
       "    </tr>\n",
       "    <tr>\n",
       "      <th>15</th>\n",
       "      <td>0.1710</td>\n",
       "      <td>50</td>\n",
       "      <td>10.0</td>\n",
       "      <td>25</td>\n",
       "    </tr>\n",
       "    <tr>\n",
       "      <th>32</th>\n",
       "      <td>0.1430</td>\n",
       "      <td>5000</td>\n",
       "      <td>1.0</td>\n",
       "      <td>100</td>\n",
       "    </tr>\n",
       "    <tr>\n",
       "      <th>10</th>\n",
       "      <td>0.1350</td>\n",
       "      <td>50</td>\n",
       "      <td>0.5</td>\n",
       "      <td>50</td>\n",
       "    </tr>\n",
       "  </tbody>\n",
       "</table>\n",
       "</div>"
      ],
      "text/plain": [
       "    metrics.accuracy  params.batch_size  params.learning_rate_init   \n",
       "27            0.6810               5000                        0.5  \\\n",
       "28            0.6384               5000                        0.5   \n",
       "30            0.5650               5000                        1.0   \n",
       "29            0.2846               5000                        0.5   \n",
       "11            0.2118                 50                        0.5   \n",
       "35            0.2062               5000                       10.0   \n",
       "31            0.1886               5000                        1.0   \n",
       "15            0.1710                 50                       10.0   \n",
       "32            0.1430               5000                        1.0   \n",
       "10            0.1350                 50                        0.5   \n",
       "\n",
       "    params.hidden_layer_sizes  \n",
       "27                         25  \n",
       "28                         50  \n",
       "30                         25  \n",
       "29                        100  \n",
       "11                        100  \n",
       "35                        100  \n",
       "31                         50  \n",
       "15                         25  \n",
       "32                        100  \n",
       "10                         50  "
      ]
     },
     "execution_count": 11,
     "metadata": {},
     "output_type": "execute_result"
    }
   ],
   "source": [
    "params_cols = ['metrics.accuracy'] + [f'params.{param}' for param in relevant_params]\n",
    "results[params_cols].sort_values('metrics.accuracy', ascending=False).head(10)"
   ]
  },
  {
   "cell_type": "code",
   "execution_count": 12,
   "metadata": {},
   "outputs": [
    {
     "data": {
      "text/plain": [
       "params.hidden_layer_sizes           58.333333\n",
       "params.batch_size                 5000.000000\n",
       "params.learning_rate_init            3.833333\n",
       "params.momentum                      0.900000\n",
       "params.alpha                         0.000100\n",
       "params.max_iter                    256.000000\n",
       "params.random_state                       NaN\n",
       "params.n_iter_no_change             10.000000\n",
       "params.tol                           0.000100\n",
       "metrics.0.precision                  0.389719\n",
       "metrics.0.recall                     0.380193\n",
       "metrics.0.f1-score                   0.296949\n",
       "metrics.0.support                  460.000000\n",
       "metrics.1.precision                  0.497592\n",
       "metrics.1.recall                     0.615100\n",
       "metrics.1.f1-score                   0.536630\n",
       "metrics.1.support                  571.000000\n",
       "metrics.2.precision                  0.224847\n",
       "metrics.2.recall                     0.477358\n",
       "metrics.2.f1-score                   0.264343\n",
       "metrics.2.support                  530.000000\n",
       "metrics.3.precision                  0.289379\n",
       "metrics.3.recall                     0.257111\n",
       "metrics.3.f1-score                   0.217024\n",
       "metrics.3.support                  500.000000\n",
       "metrics.4.precision                  0.281174\n",
       "metrics.4.recall                     0.149778\n",
       "metrics.4.f1-score                   0.176849\n",
       "metrics.4.support                  500.000000\n",
       "metrics.5.precision                  0.204050\n",
       "metrics.5.recall                     0.134259\n",
       "metrics.5.f1-score                   0.158957\n",
       "metrics.5.support                  456.000000\n",
       "metrics.6.precision                  0.247130\n",
       "metrics.6.recall                     0.339105\n",
       "metrics.6.f1-score                   0.250618\n",
       "metrics.6.support                  462.000000\n",
       "metrics.7.precision                  0.324575\n",
       "metrics.7.recall                     0.329210\n",
       "metrics.7.f1-score                   0.313455\n",
       "metrics.7.support                  512.000000\n",
       "metrics.8.precision                  0.160009\n",
       "metrics.8.recall                     0.152693\n",
       "metrics.8.f1-score                   0.085005\n",
       "metrics.8.support                  489.000000\n",
       "metrics.9.precision                  0.174433\n",
       "metrics.9.recall                     0.339957\n",
       "metrics.9.f1-score                   0.208825\n",
       "metrics.9.support                  520.000000\n",
       "metrics.accuracy                     0.324089\n",
       "metrics.macro avg.precision          0.279291\n",
       "metrics.macro avg.recall             0.317477\n",
       "metrics.macro avg.f1-score           0.250866\n",
       "metrics.macro avg.support         5000.000000\n",
       "metrics.weighted avg.precision       0.282039\n",
       "metrics.weighted avg.recall          0.324089\n",
       "metrics.weighted avg.f1-score        0.255793\n",
       "metrics.weighted avg.support      5000.000000\n",
       "curves.best_loss                     2.404369\n",
       "curves.n_iter                       22.000000\n",
       "dtype: float64"
      ]
     },
     "execution_count": 12,
     "metadata": {},
     "output_type": "execute_result"
    }
   ],
   "source": [
    "(\n",
    "    results\n",
    "    [results['curves.best_loss'] < 10]\n",
    "    .select_dtypes('number')\n",
    "    .mean()\n",
    ")"
   ]
  },
  {
   "attachments": {},
   "cell_type": "markdown",
   "metadata": {},
   "source": [
    "---"
   ]
  }
 ],
 "metadata": {
  "kernelspec": {
   "display_name": ".venv",
   "language": "python",
   "name": "python3"
  },
  "language_info": {
   "codemirror_mode": {
    "name": "ipython",
    "version": 3
   },
   "file_extension": ".py",
   "mimetype": "text/x-python",
   "name": "python",
   "nbconvert_exporter": "python",
   "pygments_lexer": "ipython3",
   "version": "3.10.6"
  },
  "orig_nbformat": 4
 },
 "nbformat": 4,
 "nbformat_minor": 2
}
