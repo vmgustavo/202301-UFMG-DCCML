{
 "cells": [
  {
   "attachments": {},
   "cell_type": "markdown",
   "metadata": {},
   "source": [
    "# Redes Neuronais + Backpropagation"
   ]
  },
  {
   "cell_type": "code",
   "execution_count": null,
   "metadata": {},
   "outputs": [],
   "source": [
    "from pathlib import Path\n",
    "from itertools import product\n",
    "from collections import Counter\n",
    "\n",
    "import pandas as pd\n",
    "from tqdm import tqdm\n",
    "import matplotlib.pyplot as plt\n",
    "from sklearn.neural_network import MLPClassifier\n",
    "from sklearn.metrics import classification_report"
   ]
  },
  {
   "attachments": {},
   "cell_type": "markdown",
   "metadata": {},
   "source": [
    "### Read Data"
   ]
  },
  {
   "cell_type": "code",
   "execution_count": null,
   "metadata": {},
   "outputs": [],
   "source": [
    "data = pd.read_csv('./data_tp1', header=None)"
   ]
  },
  {
   "cell_type": "code",
   "execution_count": null,
   "metadata": {},
   "outputs": [],
   "source": [
    "features = data.loc[:, 1:]\n",
    "target = data.loc[:, 0]"
   ]
  },
  {
   "cell_type": "code",
   "execution_count": null,
   "metadata": {},
   "outputs": [],
   "source": [
    "features.shape, target.shape"
   ]
  },
  {
   "cell_type": "code",
   "execution_count": null,
   "metadata": {},
   "outputs": [],
   "source": [
    "Counter(target)"
   ]
  },
  {
   "attachments": {},
   "cell_type": "markdown",
   "metadata": {},
   "source": [
    "### Model Hiperparameters Options [[docs](https://scikit-learn.org/stable/modules/generated/sklearn.neural_network.MLPClassifier.html)]"
   ]
  },
  {
   "cell_type": "code",
   "execution_count": null,
   "metadata": {},
   "outputs": [],
   "source": [
    "activation = 'tanh' # Sigmoid\n",
    "\n",
    "neuron_input = 784\n",
    "neuron_output = 10\n",
    "\n",
    "neurons_hidden = [25, 50, 100]\n",
    "solver = 'sgd'\n",
    "batch_sizes = [\n",
    "    10, 50,         # Mini Batch\n",
    "    1,              # Stochastic Gradient Descent\n",
    "    target.shape[0] # Gradient Descent\n",
    "]\n",
    "\n",
    "learning_rate_inits = [0.5, 1, 10]"
   ]
  },
  {
   "cell_type": "code",
   "execution_count": null,
   "metadata": {},
   "outputs": [],
   "source": [
    "params = list()\n",
    "for batch_size, learning_rate_init, neuron_hidden in product(batch_sizes, learning_rate_inits, neurons_hidden):\n",
    "    params.append({\n",
    "        'activation': activation,\n",
    "        'hidden_layer_sizes': neuron_hidden,\n",
    "        'solver': solver,\n",
    "        'batch_size': batch_size,\n",
    "        'learning_rate': 'constant',\n",
    "        'learning_rate_init': learning_rate_init,\n",
    "        'early_stopping': False,\n",
    "        'nesterovs_momentum': True,\n",
    "        'momentum': .9,\n",
    "        'verbose': False,\n",
    "        'alpha': .0001,\n",
    "        'max_iter': 256,  # number of epochs\n",
    "        'shuffle': True,\n",
    "        'random_state': None,\n",
    "        'n_iter_no_change': 10,\n",
    "        'tol': 1e-4,\n",
    "    })"
   ]
  },
  {
   "cell_type": "code",
   "execution_count": null,
   "metadata": {},
   "outputs": [],
   "source": [
    "relevant_params = ['batch_size', 'learning_rate_init', 'hidden_layer_sizes']"
   ]
  },
  {
   "cell_type": "code",
   "execution_count": null,
   "metadata": {},
   "outputs": [],
   "source": [
    "len(params)"
   ]
  },
  {
   "attachments": {},
   "cell_type": "markdown",
   "metadata": {},
   "source": [
    "### Model Instance"
   ]
  },
  {
   "cell_type": "code",
   "execution_count": null,
   "metadata": {},
   "outputs": [],
   "source": [
    "reports = list()\n",
    "for curr_params in tqdm(params):\n",
    "    report = dict()\n",
    "    report['params'] = curr_params\n",
    "\n",
    "    model = MLPClassifier(**curr_params)\n",
    "    model.fit(features, target)\n",
    "\n",
    "    metrics = classification_report(\n",
    "        y_pred=model.predict(features),\n",
    "        y_true=target,\n",
    "        output_dict=True,\n",
    "        zero_division=0,\n",
    "    )\n",
    "\n",
    "    report['metrics'] = metrics\n",
    "    report['curves'] = {\n",
    "        'loss_curve': model.loss_curve_,\n",
    "        'best_loss': model.best_loss_,\n",
    "        'n_iter': model.n_iter_\n",
    "    }\n",
    "\n",
    "    reports.append(report)"
   ]
  },
  {
   "attachments": {},
   "cell_type": "markdown",
   "metadata": {},
   "source": [
    "### Evaluate Results"
   ]
  },
  {
   "cell_type": "code",
   "execution_count": null,
   "metadata": {},
   "outputs": [],
   "source": [
    "fpath = 'results.csv'\n",
    "if Path(fpath).exists():\n",
    "    results = pd.read_csv(fpath)\n",
    "else:\n",
    "    results = pd.json_normalize(reports)\n",
    "    results.to_csv(fpath, index=False)"
   ]
  },
  {
   "cell_type": "code",
   "execution_count": null,
   "metadata": {},
   "outputs": [],
   "source": [
    "params_cols = ['metrics.accuracy'] + [f'params.{param}' for param in relevant_params]\n",
    "results[params_cols].sort_values('metrics.accuracy', ascending=False).head(10)"
   ]
  },
  {
   "cell_type": "code",
   "execution_count": null,
   "metadata": {},
   "outputs": [],
   "source": [
    "(\n",
    "    results\n",
    "    [results['curves.best_loss'] < 10]\n",
    "    .select_dtypes('number')\n",
    "    .mean()\n",
    ")"
   ]
  },
  {
   "attachments": {},
   "cell_type": "markdown",
   "metadata": {},
   "source": [
    "---"
   ]
  }
 ],
 "metadata": {
  "kernelspec": {
   "display_name": ".venv",
   "language": "python",
   "name": "python3"
  },
  "language_info": {
   "codemirror_mode": {
    "name": "ipython",
    "version": 3
   },
   "file_extension": ".py",
   "mimetype": "text/x-python",
   "name": "python",
   "nbconvert_exporter": "python",
   "pygments_lexer": "ipython3",
   "version": "3.10.6"
  },
  "orig_nbformat": 4
 },
 "nbformat": 4,
 "nbformat_minor": 2
}
