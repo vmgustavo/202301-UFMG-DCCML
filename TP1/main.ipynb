{
 "cells": [
  {
   "attachments": {},
   "cell_type": "markdown",
   "metadata": {},
   "source": [
    "# Redes Neuronais + Backpropagation"
   ]
  },
  {
   "cell_type": "code",
   "execution_count": 25,
   "metadata": {},
   "outputs": [],
   "source": [
    "from itertools import product\n",
    "from collections import Counter\n",
    "\n",
    "import pandas as pd\n",
    "from tqdm import tqdm\n",
    "import matplotlib.pyplot as plt\n",
    "from sklearn.neural_network import MLPClassifier\n",
    "from sklearn.metrics import classification_report"
   ]
  },
  {
   "attachments": {},
   "cell_type": "markdown",
   "metadata": {},
   "source": [
    "### Read Data"
   ]
  },
  {
   "cell_type": "code",
   "execution_count": 2,
   "metadata": {},
   "outputs": [],
   "source": [
    "data = pd.read_csv('./data_tp1', header=None)"
   ]
  },
  {
   "cell_type": "code",
   "execution_count": 3,
   "metadata": {},
   "outputs": [],
   "source": [
    "features = data.loc[:, 1:]\n",
    "target = data.loc[:, 0]"
   ]
  },
  {
   "cell_type": "code",
   "execution_count": 4,
   "metadata": {},
   "outputs": [
    {
     "data": {
      "text/plain": [
       "((5000, 784), (5000,))"
      ]
     },
     "execution_count": 4,
     "metadata": {},
     "output_type": "execute_result"
    }
   ],
   "source": [
    "features.shape, target.shape"
   ]
  },
  {
   "cell_type": "code",
   "execution_count": 17,
   "metadata": {},
   "outputs": [
    {
     "data": {
      "text/plain": [
       "Counter({1: 571,\n",
       "         2: 530,\n",
       "         9: 520,\n",
       "         7: 512,\n",
       "         4: 500,\n",
       "         3: 500,\n",
       "         8: 489,\n",
       "         6: 462,\n",
       "         0: 460,\n",
       "         5: 456})"
      ]
     },
     "execution_count": 17,
     "metadata": {},
     "output_type": "execute_result"
    }
   ],
   "source": [
    "Counter(target)"
   ]
  },
  {
   "attachments": {},
   "cell_type": "markdown",
   "metadata": {},
   "source": [
    "### Model Hiperparameters Options [[docs](https://scikit-learn.org/stable/modules/generated/sklearn.neural_network.MLPClassifier.html)]"
   ]
  },
  {
   "cell_type": "code",
   "execution_count": 32,
   "metadata": {},
   "outputs": [],
   "source": [
    "activation = 'tanh' # Sigmoid\n",
    "\n",
    "neuron_input = 784\n",
    "neuron_output = 10\n",
    "\n",
    "neurons_hidden = [25, 50, 100]\n",
    "solver = 'sgd'\n",
    "batch_sizes = [\n",
    "    10, 50,         # Mini Batch\n",
    "    1,              # Stochastic Gradient Descent\n",
    "    target.shape[0] # Gradient Descent\n",
    "]\n",
    "\n",
    "learning_rate = 'constant'\n",
    "learning_rate_inits = [0.5, 1, 10]"
   ]
  },
  {
   "cell_type": "code",
   "execution_count": 35,
   "metadata": {},
   "outputs": [],
   "source": [
    "params = list()\n",
    "for batch_size, learning_rate_init, neuron_hidden in product(batch_sizes, learning_rate_inits, neurons_hidden):\n",
    "    params.append({\n",
    "        'activation': activation,\n",
    "        'hidden_layer_sizes': neuron_hidden,\n",
    "        'solver': solver,\n",
    "        'batch_size': batch_size,\n",
    "        'learning_rate': learning_rate,\n",
    "        'learning_rate_init': learning_rate_init,\n",
    "        'early_stopping': False,\n",
    "        'nesterovs_momentum': True,\n",
    "        'momentum': .9,\n",
    "        'verbose': False,\n",
    "        'alpha': .0001,\n",
    "        'max_iter': 256,  # number of epochs\n",
    "        'shuffle': True,\n",
    "        'random_state': None,\n",
    "        'n_iter_no_change': 10,\n",
    "        'tol': 1e-4,\n",
    "    })"
   ]
  },
  {
   "cell_type": "code",
   "execution_count": 36,
   "metadata": {},
   "outputs": [
    {
     "data": {
      "text/plain": [
       "36"
      ]
     },
     "execution_count": 36,
     "metadata": {},
     "output_type": "execute_result"
    }
   ],
   "source": [
    "len(params)"
   ]
  },
  {
   "attachments": {},
   "cell_type": "markdown",
   "metadata": {},
   "source": [
    "### Model Instance"
   ]
  },
  {
   "cell_type": "code",
   "execution_count": 37,
   "metadata": {},
   "outputs": [
    {
     "name": "stderr",
     "output_type": "stream",
     "text": [
      "100%|██████████| 36/36 [46:59<00:00, 78.32s/it]   \n"
     ]
    }
   ],
   "source": [
    "reports = list()\n",
    "for curr_params in tqdm(params):\n",
    "    report = dict()\n",
    "    report['params'] = curr_params\n",
    "\n",
    "    model = MLPClassifier(**curr_params)\n",
    "    model.fit(features, target)\n",
    "\n",
    "    metrics = classification_report(\n",
    "        y_pred=model.predict(features),\n",
    "        y_true=target,\n",
    "        output_dict=True,\n",
    "        zero_division=0,\n",
    "    )\n",
    "\n",
    "    report['metrics'] = metrics\n",
    "    report['curves'] = {\n",
    "        'loss_curve': model.loss_curve_,\n",
    "        'best_loss': model.best_loss_,\n",
    "        'n_iter': model.n_iter_\n",
    "    }\n",
    "\n",
    "    reports.append(report)"
   ]
  },
  {
   "attachments": {},
   "cell_type": "markdown",
   "metadata": {},
   "source": [
    "### Evaluate Results"
   ]
  },
  {
   "cell_type": "code",
   "execution_count": 38,
   "metadata": {},
   "outputs": [],
   "source": [
    "results = pd.json_normalize(reports)"
   ]
  },
  {
   "cell_type": "code",
   "execution_count": 39,
   "metadata": {},
   "outputs": [],
   "source": [
    "results.to_csv('results.csv', index=False)"
   ]
  },
  {
   "cell_type": "code",
   "execution_count": 46,
   "metadata": {},
   "outputs": [
    {
     "data": {
      "text/html": [
       "<div>\n",
       "<style scoped>\n",
       "    .dataframe tbody tr th:only-of-type {\n",
       "        vertical-align: middle;\n",
       "    }\n",
       "\n",
       "    .dataframe tbody tr th {\n",
       "        vertical-align: top;\n",
       "    }\n",
       "\n",
       "    .dataframe thead th {\n",
       "        text-align: right;\n",
       "    }\n",
       "</style>\n",
       "<table border=\"1\" class=\"dataframe\">\n",
       "  <thead>\n",
       "    <tr style=\"text-align: right;\">\n",
       "      <th>params.hidden_layer_sizes</th>\n",
       "      <th>25</th>\n",
       "      <th>50</th>\n",
       "      <th>100</th>\n",
       "    </tr>\n",
       "  </thead>\n",
       "  <tbody>\n",
       "    <tr>\n",
       "      <th>count</th>\n",
       "      <td>12.000000</td>\n",
       "      <td>12.000000</td>\n",
       "      <td>12.000000</td>\n",
       "    </tr>\n",
       "    <tr>\n",
       "      <th>mean</th>\n",
       "      <td>49.280587</td>\n",
       "      <td>291.694061</td>\n",
       "      <td>2720.351013</td>\n",
       "    </tr>\n",
       "    <tr>\n",
       "      <th>std</th>\n",
       "      <td>71.843700</td>\n",
       "      <td>626.904801</td>\n",
       "      <td>8759.571892</td>\n",
       "    </tr>\n",
       "    <tr>\n",
       "      <th>min</th>\n",
       "      <td>0.917664</td>\n",
       "      <td>0.836946</td>\n",
       "      <td>3.040507</td>\n",
       "    </tr>\n",
       "    <tr>\n",
       "      <th>25%</th>\n",
       "      <td>8.309022</td>\n",
       "      <td>16.197991</td>\n",
       "      <td>19.379697</td>\n",
       "    </tr>\n",
       "    <tr>\n",
       "      <th>50%</th>\n",
       "      <td>27.531738</td>\n",
       "      <td>32.624261</td>\n",
       "      <td>32.380846</td>\n",
       "    </tr>\n",
       "    <tr>\n",
       "      <th>75%</th>\n",
       "      <td>35.340187</td>\n",
       "      <td>71.007811</td>\n",
       "      <td>60.890153</td>\n",
       "    </tr>\n",
       "    <tr>\n",
       "      <th>max</th>\n",
       "      <td>229.388694</td>\n",
       "      <td>1991.008232</td>\n",
       "      <td>30485.104693</td>\n",
       "    </tr>\n",
       "  </tbody>\n",
       "</table>\n",
       "</div>"
      ],
      "text/plain": [
       "params.hidden_layer_sizes         25           50            100\n",
       "count                       12.000000    12.000000     12.000000\n",
       "mean                        49.280587   291.694061   2720.351013\n",
       "std                         71.843700   626.904801   8759.571892\n",
       "min                          0.917664     0.836946      3.040507\n",
       "25%                          8.309022    16.197991     19.379697\n",
       "50%                         27.531738    32.624261     32.380846\n",
       "75%                         35.340187    71.007811     60.890153\n",
       "max                        229.388694  1991.008232  30485.104693"
      ]
     },
     "execution_count": 46,
     "metadata": {},
     "output_type": "execute_result"
    }
   ],
   "source": [
    "(\n",
    "    results[['params.hidden_layer_sizes', 'curves.best_loss']]\n",
    "    .pivot(\n",
    "        values='curves.best_loss',\n",
    "        columns='params.hidden_layer_sizes',\n",
    "    )\n",
    "    .describe()\n",
    ")"
   ]
  },
  {
   "attachments": {},
   "cell_type": "markdown",
   "metadata": {},
   "source": [
    "---"
   ]
  }
 ],
 "metadata": {
  "kernelspec": {
   "display_name": ".venv",
   "language": "python",
   "name": "python3"
  },
  "language_info": {
   "codemirror_mode": {
    "name": "ipython",
    "version": 3
   },
   "file_extension": ".py",
   "mimetype": "text/x-python",
   "name": "python",
   "nbconvert_exporter": "python",
   "pygments_lexer": "ipython3",
   "version": "3.10.6"
  },
  "orig_nbformat": 4
 },
 "nbformat": 4,
 "nbformat_minor": 2
}
