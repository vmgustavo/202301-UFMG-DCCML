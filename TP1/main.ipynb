{
 "cells": [
  {
   "attachments": {},
   "cell_type": "markdown",
   "metadata": {},
   "source": [
    "# Redes Neuronais + Backpropagation"
   ]
  },
  {
   "cell_type": "code",
   "execution_count": null,
   "metadata": {},
   "outputs": [],
   "source": [
    "from itertools import product\n",
    "\n",
    "import pandas as pd\n",
    "import matplotlib.pyplot as plt\n",
    "from sklearn.neural_network import MLPClassifier"
   ]
  },
  {
   "attachments": {},
   "cell_type": "markdown",
   "metadata": {},
   "source": [
    "### Read Data"
   ]
  },
  {
   "cell_type": "code",
   "execution_count": null,
   "metadata": {},
   "outputs": [],
   "source": [
    "data = pd.read_csv('./data_tp1', header=None)"
   ]
  },
  {
   "cell_type": "code",
   "execution_count": null,
   "metadata": {},
   "outputs": [],
   "source": [
    "features = data.loc[:, 1:]\n",
    "target = data.loc[:, 0]"
   ]
  },
  {
   "cell_type": "code",
   "execution_count": null,
   "metadata": {},
   "outputs": [],
   "source": [
    "features.shape, target.shape"
   ]
  },
  {
   "attachments": {},
   "cell_type": "markdown",
   "metadata": {},
   "source": [
    "### Model Hiperparameters Options [[docs](https://scikit-learn.org/stable/modules/generated/sklearn.neural_network.MLPClassifier.html)]"
   ]
  },
  {
   "cell_type": "code",
   "execution_count": null,
   "metadata": {},
   "outputs": [],
   "source": [
    "activation = 'tanh' # Sigmoid\n",
    "\n",
    "neuron_input = 784\n",
    "neuron_output = 10\n",
    "\n",
    "neuron_hidden = [25, 50, 100]\n",
    "solver = 'sgd'\n",
    "batch_sizes = [\n",
    "    10, 50,         # Mini Batch\n",
    "    1,              # Stochastic Gradient Descent\n",
    "    target.shape[0] # Gradient Descent\n",
    "]\n",
    "\n",
    "learning_rate = 'constant'\n",
    "learning_rate_inits = [0.5, 1, 10]"
   ]
  },
  {
   "cell_type": "code",
   "execution_count": null,
   "metadata": {},
   "outputs": [],
   "source": [
    "params = list()\n",
    "for batch_size, learning_rate_init in product(batch_sizes, learning_rate_inits):\n",
    "    params.append({\n",
    "        'activation': activation,\n",
    "        'hidden_layer_sizes': neuron_hidden,\n",
    "        'solver': solver,\n",
    "        'batch_size': batch_size,\n",
    "        'learning_rate': learning_rate,\n",
    "        'learning_rate_init': learning_rate_init,\n",
    "        'early_stopping': False,\n",
    "        'nesterovs_momentum': True,\n",
    "        'momentum': .9,\n",
    "        'verbose': False,\n",
    "        'alpha': .0001,\n",
    "        'max_iter': 256,  # number of epochs\n",
    "        'shuffle': True,\n",
    "        'random_state': None,\n",
    "        'n_iter_no_change': 10,\n",
    "        'tol': 1e-4,\n",
    "    })"
   ]
  },
  {
   "attachments": {},
   "cell_type": "markdown",
   "metadata": {},
   "source": [
    "### Model Instance"
   ]
  },
  {
   "cell_type": "code",
   "execution_count": null,
   "metadata": {},
   "outputs": [],
   "source": [
    "model = MLPClassifier(**params[0])\n",
    "model.fit(features, target);"
   ]
  },
  {
   "cell_type": "code",
   "execution_count": null,
   "metadata": {},
   "outputs": [],
   "source": [
    "model.n_iter_"
   ]
  },
  {
   "cell_type": "code",
   "execution_count": null,
   "metadata": {},
   "outputs": [],
   "source": [
    "plt.figure(figsize=(12, 5))\n",
    "plt.plot(model.loss_curve_)\n",
    "plt.yscale('log')\n",
    "plt.grid(True, 'both', alpha=.3)\n",
    "plt.show()\n",
    "plt.close()"
   ]
  },
  {
   "cell_type": "code",
   "execution_count": null,
   "metadata": {},
   "outputs": [],
   "source": []
  }
 ],
 "metadata": {
  "kernelspec": {
   "display_name": ".venv",
   "language": "python",
   "name": "python3"
  },
  "language_info": {
   "codemirror_mode": {
    "name": "ipython",
    "version": 3
   },
   "file_extension": ".py",
   "mimetype": "text/x-python",
   "name": "python",
   "nbconvert_exporter": "python",
   "pygments_lexer": "ipython3",
   "version": "3.10.6"
  },
  "orig_nbformat": 4
 },
 "nbformat": 4,
 "nbformat_minor": 2
}
